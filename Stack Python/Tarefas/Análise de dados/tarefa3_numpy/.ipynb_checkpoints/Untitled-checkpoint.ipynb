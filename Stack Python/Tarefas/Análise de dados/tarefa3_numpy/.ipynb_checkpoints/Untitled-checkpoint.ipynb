{
 "cells": [
  {
   "cell_type": "code",
   "execution_count": 164,
   "id": "279da82c",
   "metadata": {},
   "outputs": [],
   "source": [
    "import pandas as pd\n",
    "import numpy as np"
   ]
  },
  {
   "cell_type": "code",
   "execution_count": 63,
   "id": "18cf2c07",
   "metadata": {
    "scrolled": true
   },
   "outputs": [
    {
     "data": {
      "text/html": [
       "<div>\n",
       "<style scoped>\n",
       "    .dataframe tbody tr th:only-of-type {\n",
       "        vertical-align: middle;\n",
       "    }\n",
       "\n",
       "    .dataframe tbody tr th {\n",
       "        vertical-align: top;\n",
       "    }\n",
       "\n",
       "    .dataframe thead th {\n",
       "        text-align: right;\n",
       "    }\n",
       "</style>\n",
       "<table border=\"1\" class=\"dataframe\">\n",
       "  <thead>\n",
       "    <tr style=\"text-align: right;\">\n",
       "      <th></th>\n",
       "      <th>ï»¿num</th>\n",
       "      <th>Company Name</th>\n",
       "      <th>Location</th>\n",
       "      <th>Datum</th>\n",
       "      <th>Detail</th>\n",
       "      <th>Status Rocket</th>\n",
       "      <th>Cost</th>\n",
       "      <th>Status Mission</th>\n",
       "    </tr>\n",
       "  </thead>\n",
       "  <tbody>\n",
       "    <tr>\n",
       "      <th>0</th>\n",
       "      <td>0</td>\n",
       "      <td>SpaceX</td>\n",
       "      <td>LC-39A Kennedy Space Center Florida USA</td>\n",
       "      <td>Fri Aug 07 2020 05:12 UTC</td>\n",
       "      <td>Falcon 9 Block 5 | Starlink V1 L9 &amp; BlackSky</td>\n",
       "      <td>StatusActive</td>\n",
       "      <td>50.00</td>\n",
       "      <td>Success</td>\n",
       "    </tr>\n",
       "    <tr>\n",
       "      <th>1</th>\n",
       "      <td>1</td>\n",
       "      <td>CASC</td>\n",
       "      <td>Site 9401 (SLS-2) Jiuquan Satellite Launch Cen...</td>\n",
       "      <td>Thu Aug 06 2020 04:01 UTC</td>\n",
       "      <td>Long March 2D | Gaofen-9 04 &amp; Q-SAT</td>\n",
       "      <td>StatusActive</td>\n",
       "      <td>29.75</td>\n",
       "      <td>Success</td>\n",
       "    </tr>\n",
       "    <tr>\n",
       "      <th>2</th>\n",
       "      <td>2</td>\n",
       "      <td>SpaceX</td>\n",
       "      <td>Pad A Boca Chica Texas USA</td>\n",
       "      <td>Tue Aug 04 2020 23:57 UTC</td>\n",
       "      <td>Starship Prototype | 150 Meter Hop</td>\n",
       "      <td>StatusActive</td>\n",
       "      <td>0.00</td>\n",
       "      <td>Success</td>\n",
       "    </tr>\n",
       "    <tr>\n",
       "      <th>3</th>\n",
       "      <td>3</td>\n",
       "      <td>Roscosmos</td>\n",
       "      <td>Site 200/39 Baikonur Cosmodrome Kazakhstan</td>\n",
       "      <td>Thu Jul 30 2020 21:25 UTC</td>\n",
       "      <td>Proton-M/Briz-M | Ekspress-80 &amp; Ekspress-103</td>\n",
       "      <td>StatusActive</td>\n",
       "      <td>65.00</td>\n",
       "      <td>Success</td>\n",
       "    </tr>\n",
       "    <tr>\n",
       "      <th>4</th>\n",
       "      <td>4</td>\n",
       "      <td>ULA</td>\n",
       "      <td>SLC-41 Cape Canaveral AFS Florida USA</td>\n",
       "      <td>Thu Jul 30 2020 11:50 UTC</td>\n",
       "      <td>Atlas V 541 | Perseverance</td>\n",
       "      <td>StatusActive</td>\n",
       "      <td>145.00</td>\n",
       "      <td>Success</td>\n",
       "    </tr>\n",
       "    <tr>\n",
       "      <th>...</th>\n",
       "      <td>...</td>\n",
       "      <td>...</td>\n",
       "      <td>...</td>\n",
       "      <td>...</td>\n",
       "      <td>...</td>\n",
       "      <td>...</td>\n",
       "      <td>...</td>\n",
       "      <td>...</td>\n",
       "    </tr>\n",
       "    <tr>\n",
       "      <th>4319</th>\n",
       "      <td>4319</td>\n",
       "      <td>US Navy</td>\n",
       "      <td>LC-18A Cape Canaveral AFS Florida USA</td>\n",
       "      <td>Wed Feb 05 1958 07:33 UTC</td>\n",
       "      <td>Vanguard | Vanguard TV3BU</td>\n",
       "      <td>StatusRetired</td>\n",
       "      <td>0.00</td>\n",
       "      <td>Failure</td>\n",
       "    </tr>\n",
       "    <tr>\n",
       "      <th>4320</th>\n",
       "      <td>4320</td>\n",
       "      <td>AMBA</td>\n",
       "      <td>LC-26A Cape Canaveral AFS Florida USA</td>\n",
       "      <td>Sat Feb 01 1958 03:48 UTC</td>\n",
       "      <td>Juno I | Explorer 1</td>\n",
       "      <td>StatusRetired</td>\n",
       "      <td>0.00</td>\n",
       "      <td>Success</td>\n",
       "    </tr>\n",
       "    <tr>\n",
       "      <th>4321</th>\n",
       "      <td>4321</td>\n",
       "      <td>US Navy</td>\n",
       "      <td>LC-18A Cape Canaveral AFS Florida USA</td>\n",
       "      <td>Fri Dec 06 1957 16:44 UTC</td>\n",
       "      <td>Vanguard | Vanguard TV3</td>\n",
       "      <td>StatusRetired</td>\n",
       "      <td>0.00</td>\n",
       "      <td>Failure</td>\n",
       "    </tr>\n",
       "    <tr>\n",
       "      <th>4322</th>\n",
       "      <td>4322</td>\n",
       "      <td>RVSN USSR</td>\n",
       "      <td>Site 1/5 Baikonur Cosmodrome Kazakhstan</td>\n",
       "      <td>Sun Nov 03 1957 02:30 UTC</td>\n",
       "      <td>Sputnik 8K71PS | Sputnik-2</td>\n",
       "      <td>StatusRetired</td>\n",
       "      <td>0.00</td>\n",
       "      <td>Success</td>\n",
       "    </tr>\n",
       "    <tr>\n",
       "      <th>4323</th>\n",
       "      <td>4323</td>\n",
       "      <td>RVSN USSR</td>\n",
       "      <td>Site 1/5 Baikonur Cosmodrome Kazakhstan</td>\n",
       "      <td>Fri Oct 04 1957 19:28 UTC</td>\n",
       "      <td>Sputnik 8K71PS | Sputnik-1</td>\n",
       "      <td>StatusRetired</td>\n",
       "      <td>0.00</td>\n",
       "      <td>Success</td>\n",
       "    </tr>\n",
       "  </tbody>\n",
       "</table>\n",
       "<p>4324 rows × 8 columns</p>\n",
       "</div>"
      ],
      "text/plain": [
       "      ï»¿num Company Name                                           Location  \\\n",
       "0          0       SpaceX            LC-39A Kennedy Space Center Florida USA   \n",
       "1          1         CASC  Site 9401 (SLS-2) Jiuquan Satellite Launch Cen...   \n",
       "2          2       SpaceX                         Pad A Boca Chica Texas USA   \n",
       "3          3    Roscosmos         Site 200/39 Baikonur Cosmodrome Kazakhstan   \n",
       "4          4          ULA              SLC-41 Cape Canaveral AFS Florida USA   \n",
       "...      ...          ...                                                ...   \n",
       "4319    4319      US Navy              LC-18A Cape Canaveral AFS Florida USA   \n",
       "4320    4320         AMBA              LC-26A Cape Canaveral AFS Florida USA   \n",
       "4321    4321      US Navy              LC-18A Cape Canaveral AFS Florida USA   \n",
       "4322    4322    RVSN USSR            Site 1/5 Baikonur Cosmodrome Kazakhstan   \n",
       "4323    4323    RVSN USSR            Site 1/5 Baikonur Cosmodrome Kazakhstan   \n",
       "\n",
       "                          Datum                                        Detail  \\\n",
       "0     Fri Aug 07 2020 05:12 UTC  Falcon 9 Block 5 | Starlink V1 L9 & BlackSky   \n",
       "1     Thu Aug 06 2020 04:01 UTC           Long March 2D | Gaofen-9 04 & Q-SAT   \n",
       "2     Tue Aug 04 2020 23:57 UTC            Starship Prototype | 150 Meter Hop   \n",
       "3     Thu Jul 30 2020 21:25 UTC  Proton-M/Briz-M | Ekspress-80 & Ekspress-103   \n",
       "4     Thu Jul 30 2020 11:50 UTC                    Atlas V 541 | Perseverance   \n",
       "...                         ...                                           ...   \n",
       "4319  Wed Feb 05 1958 07:33 UTC                     Vanguard | Vanguard TV3BU   \n",
       "4320  Sat Feb 01 1958 03:48 UTC                           Juno I | Explorer 1   \n",
       "4321  Fri Dec 06 1957 16:44 UTC                       Vanguard | Vanguard TV3   \n",
       "4322  Sun Nov 03 1957 02:30 UTC                    Sputnik 8K71PS | Sputnik-2   \n",
       "4323  Fri Oct 04 1957 19:28 UTC                    Sputnik 8K71PS | Sputnik-1   \n",
       "\n",
       "      Status Rocket    Cost Status Mission  \n",
       "0      StatusActive   50.00        Success  \n",
       "1      StatusActive   29.75        Success  \n",
       "2      StatusActive    0.00        Success  \n",
       "3      StatusActive   65.00        Success  \n",
       "4      StatusActive  145.00        Success  \n",
       "...             ...     ...            ...  \n",
       "4319  StatusRetired    0.00        Failure  \n",
       "4320  StatusRetired    0.00        Success  \n",
       "4321  StatusRetired    0.00        Failure  \n",
       "4322  StatusRetired    0.00        Success  \n",
       "4323  StatusRetired    0.00        Success  \n",
       "\n",
       "[4324 rows x 8 columns]"
      ]
     },
     "execution_count": 63,
     "metadata": {},
     "output_type": "execute_result"
    }
   ],
   "source": [
    "dados_space = pd.read_csv(\"space.csv\", sep=\";\", encoding=\"ISO-8859-1\")\n",
    "dados_space\n"
   ]
  },
  {
   "cell_type": "markdown",
   "id": "c497b7dc",
   "metadata": {},
   "source": [
    "# 1"
   ]
  },
  {
   "cell_type": "code",
   "execution_count": 88,
   "id": "a2eb38db",
   "metadata": {},
   "outputs": [
    {
     "data": {
      "text/plain": [
       "4324"
      ]
     },
     "execution_count": 88,
     "metadata": {},
     "output_type": "execute_result"
    }
   ],
   "source": [
    "len(dados_space)"
   ]
  },
  {
   "cell_type": "code",
   "execution_count": 89,
   "id": "12749831",
   "metadata": {},
   "outputs": [
    {
     "data": {
      "text/plain": [
       "Status Mission    4324\n",
       "dtype: int64"
      ]
     },
     "execution_count": 89,
     "metadata": {},
     "output_type": "execute_result"
    }
   ],
   "source": [
    "coluna_status = dados_space.filter(items=[\"Status Mission\"])\n",
    "total = coluna_status.count()\n",
    "total"
   ]
  },
  {
   "cell_type": "code",
   "execution_count": 93,
   "id": "a4b77c49",
   "metadata": {},
   "outputs": [
    {
     "data": {
      "text/plain": [
       "Status Mission    3879\n",
       "dtype: int64"
      ]
     },
     "execution_count": 93,
     "metadata": {},
     "output_type": "execute_result"
    }
   ],
   "source": [
    "filtro = coluna_status.filter(items=[\"Status Mission\"]).where(coluna_status[\"Status Mission\"] == \"Success\")\n",
    "sucesso = filtro.count()\n",
    "sucesso\n"
   ]
  },
  {
   "cell_type": "code",
   "execution_count": 109,
   "id": "6cfc26e5",
   "metadata": {},
   "outputs": [
    {
     "name": "stdout",
     "output_type": "stream",
     "text": [
      "Porcentagem de sucesso: Status Mission    89.708603\n",
      "dtype: float64 %\n"
     ]
    }
   ],
   "source": [
    "print(f\"Porcentagem de sucesso: {100*sucesso/total} %\")"
   ]
  },
  {
   "cell_type": "markdown",
   "id": "153c06e2",
   "metadata": {},
   "source": [
    "# 2"
   ]
  },
  {
   "cell_type": "code",
   "execution_count": 113,
   "id": "0e41439c",
   "metadata": {},
   "outputs": [
    {
     "data": {
      "text/plain": [
       "Cost    153.792199\n",
       "dtype: float64"
      ]
     },
     "execution_count": 113,
     "metadata": {},
     "output_type": "execute_result"
    }
   ],
   "source": [
    "media_gastos = dados_space.filter(items=[\"Cost\"]).where(dados_space[\"Cost\"] > 0).mean() \n",
    "media_gastos"
   ]
  },
  {
   "cell_type": "markdown",
   "id": "f45ea2c5",
   "metadata": {},
   "source": [
    "# 3 "
   ]
  },
  {
   "cell_type": "code",
   "execution_count": 156,
   "id": "09b98a0d",
   "metadata": {},
   "outputs": [
    {
     "data": {
      "text/plain": [
       "<PandasArray>\n",
       "[                'LC-39A Kennedy Space Center Florida USA',\n",
       " 'Site 9401 (SLS-2) Jiuquan Satellite Launch Center China',\n",
       "                              'Pad A Boca Chica Texas USA',\n",
       "              'Site 200/39 Baikonur Cosmodrome Kazakhstan',\n",
       "                   'SLC-41 Cape Canaveral AFS Florida USA',\n",
       "              'LC-9 Taiyuan Satellite Launch Center China',\n",
       "                'Site 31/6 Baikonur Cosmodrome Kazakhstan',\n",
       "           'LC-101 Wenchang Satellite Launch Center China',\n",
       "                   'SLC-40 Cape Canaveral AFS Florida USA',\n",
       "                    'LA-Y1 Tanegashima Space Center Japan',\n",
       " ...\n",
       "                   'LC-18A Cape Canaveral AFS Florida USA',\n",
       "                 'Site 1/5 Baikonur Cosmodrome Kazakhstan',\n",
       "                     'LC-5 Cape Canaveral AFS Florida USA',\n",
       "                   'LC-18A Cape Canaveral AFS Florida USA',\n",
       "                   'LC-26A Cape Canaveral AFS Florida USA',\n",
       "                   'LC-18A Cape Canaveral AFS Florida USA',\n",
       "                   'LC-26A Cape Canaveral AFS Florida USA',\n",
       "                   'LC-18A Cape Canaveral AFS Florida USA',\n",
       "                 'Site 1/5 Baikonur Cosmodrome Kazakhstan',\n",
       "                 'Site 1/5 Baikonur Cosmodrome Kazakhstan']\n",
       "Length: 4324, dtype: object"
      ]
     },
     "execution_count": 156,
     "metadata": {},
     "output_type": "execute_result"
    }
   ],
   "source": [
    "location = pd.array(dados_space[\"Location\"])\n",
    "location"
   ]
  },
  {
   "cell_type": "code",
   "execution_count": 180,
   "id": "bb142a88",
   "metadata": {},
   "outputs": [
    {
     "name": "stdout",
     "output_type": "stream",
     "text": [
      "Quantidade de missões feitas pelos EUA: 1344 missões\n"
     ]
    }
   ],
   "source": [
    "qnt_usa = []\n",
    "for i in range(len(location)):\n",
    "    if \"USA\" in location[i]:\n",
    "        qnt_usa.append(location[i])        \n",
    "print(f\"Quantidade de missões feitas pelos EUA: {len(qnt_usa)} missões\")"
   ]
  },
  {
   "cell_type": "markdown",
   "id": "c069b86d",
   "metadata": {},
   "source": [
    "# 4"
   ]
  },
  {
   "cell_type": "code",
   "execution_count": 122,
   "id": "41a3f22b",
   "metadata": {},
   "outputs": [
    {
     "data": {
      "text/html": [
       "<div>\n",
       "<style scoped>\n",
       "    .dataframe tbody tr th:only-of-type {\n",
       "        vertical-align: middle;\n",
       "    }\n",
       "\n",
       "    .dataframe tbody tr th {\n",
       "        vertical-align: top;\n",
       "    }\n",
       "\n",
       "    .dataframe thead th {\n",
       "        text-align: right;\n",
       "    }\n",
       "</style>\n",
       "<table border=\"1\" class=\"dataframe\">\n",
       "  <thead>\n",
       "    <tr style=\"text-align: right;\">\n",
       "      <th></th>\n",
       "      <th>Company Name</th>\n",
       "      <th>Cost</th>\n",
       "    </tr>\n",
       "  </thead>\n",
       "  <tbody>\n",
       "    <tr>\n",
       "      <th>0</th>\n",
       "      <td>SpaceX</td>\n",
       "      <td>50.00</td>\n",
       "    </tr>\n",
       "    <tr>\n",
       "      <th>1</th>\n",
       "      <td>CASC</td>\n",
       "      <td>29.75</td>\n",
       "    </tr>\n",
       "    <tr>\n",
       "      <th>2</th>\n",
       "      <td>SpaceX</td>\n",
       "      <td>0.00</td>\n",
       "    </tr>\n",
       "    <tr>\n",
       "      <th>3</th>\n",
       "      <td>Roscosmos</td>\n",
       "      <td>65.00</td>\n",
       "    </tr>\n",
       "    <tr>\n",
       "      <th>4</th>\n",
       "      <td>ULA</td>\n",
       "      <td>145.00</td>\n",
       "    </tr>\n",
       "    <tr>\n",
       "      <th>...</th>\n",
       "      <td>...</td>\n",
       "      <td>...</td>\n",
       "    </tr>\n",
       "    <tr>\n",
       "      <th>4319</th>\n",
       "      <td>US Navy</td>\n",
       "      <td>0.00</td>\n",
       "    </tr>\n",
       "    <tr>\n",
       "      <th>4320</th>\n",
       "      <td>AMBA</td>\n",
       "      <td>0.00</td>\n",
       "    </tr>\n",
       "    <tr>\n",
       "      <th>4321</th>\n",
       "      <td>US Navy</td>\n",
       "      <td>0.00</td>\n",
       "    </tr>\n",
       "    <tr>\n",
       "      <th>4322</th>\n",
       "      <td>RVSN USSR</td>\n",
       "      <td>0.00</td>\n",
       "    </tr>\n",
       "    <tr>\n",
       "      <th>4323</th>\n",
       "      <td>RVSN USSR</td>\n",
       "      <td>0.00</td>\n",
       "    </tr>\n",
       "  </tbody>\n",
       "</table>\n",
       "<p>4324 rows × 2 columns</p>\n",
       "</div>"
      ],
      "text/plain": [
       "     Company Name    Cost\n",
       "0          SpaceX   50.00\n",
       "1            CASC   29.75\n",
       "2          SpaceX    0.00\n",
       "3       Roscosmos   65.00\n",
       "4             ULA  145.00\n",
       "...           ...     ...\n",
       "4319      US Navy    0.00\n",
       "4320         AMBA    0.00\n",
       "4321      US Navy    0.00\n",
       "4322    RVSN USSR    0.00\n",
       "4323    RVSN USSR    0.00\n",
       "\n",
       "[4324 rows x 2 columns]"
      ]
     },
     "execution_count": 122,
     "metadata": {},
     "output_type": "execute_result"
    }
   ],
   "source": [
    "nome_preco = dados_space.filter(items=[\"Company Name\", \"Cost\"])\n",
    "nome_preco"
   ]
  },
  {
   "cell_type": "code",
   "execution_count": 127,
   "id": "0a5e53e1",
   "metadata": {
    "scrolled": true
   },
   "outputs": [
    {
     "data": {
      "text/plain": [
       "Cost    90.0\n",
       "dtype: float64"
      ]
     },
     "execution_count": 127,
     "metadata": {},
     "output_type": "execute_result"
    }
   ],
   "source": [
    "maior_spaceX = nome_preco.where(nome_preco[\"Company Name\"] == \"SpaceX\").max()\n",
    "maior_spaceX"
   ]
  },
  {
   "cell_type": "markdown",
   "id": "e50bb52b",
   "metadata": {},
   "source": [
    "# 5\n"
   ]
  },
  {
   "cell_type": "code",
   "execution_count": 222,
   "id": "51fce468",
   "metadata": {
    "scrolled": true
   },
   "outputs": [],
   "source": [
    "empresas = np.array(dados_space[\"Company Name\"])\n",
    "\n"
   ]
  },
  {
   "cell_type": "code",
   "execution_count": 225,
   "id": "dcc61df2",
   "metadata": {},
   "outputs": [],
   "source": [
    "nome, qnt = np.unique(empresas, return_counts=True)\n",
    "\n"
   ]
  },
  {
   "cell_type": "code",
   "execution_count": 230,
   "id": "fde3cab5",
   "metadata": {},
   "outputs": [
    {
     "name": "stdout",
     "output_type": "stream",
     "text": [
      "AEB: 3 vezes\n",
      "AMBA: 8 vezes\n",
      "ASI: 9 vezes\n",
      "Arianespace: 279 vezes\n",
      "Arm??e de l'Air: 4 vezes\n",
      "Blue Origin: 12 vezes\n",
      "Boeing: 136 vezes\n",
      "CASC: 251 vezes\n",
      "CASIC: 5 vezes\n",
      "CECLES: 4 vezes\n",
      "CNES: 8 vezes\n",
      "Douglas: 1 vezes\n",
      "EER: 1 vezes\n",
      "ESA: 13 vezes\n",
      "Eurockot: 13 vezes\n",
      "ExPace: 10 vezes\n",
      "Exos: 4 vezes\n",
      "General Dynamics: 251 vezes\n",
      "IAI: 11 vezes\n",
      "ILS: 46 vezes\n",
      "IRGC: 1 vezes\n",
      "ISA: 13 vezes\n",
      "ISAS: 30 vezes\n",
      "ISRO: 76 vezes\n",
      "JAXA: 7 vezes\n",
      "KARI: 3 vezes\n",
      "KCST: 5 vezes\n",
      "Khrunichev: 1 vezes\n",
      "Kosmotras: 22 vezes\n",
      "Land Launch: 7 vezes\n",
      "Landspace: 1 vezes\n",
      "Lockheed: 79 vezes\n",
      "MHI: 84 vezes\n",
      "MITT: 7 vezes\n",
      "Martin Marietta: 114 vezes\n",
      "NASA: 203 vezes\n",
      "Northrop: 83 vezes\n",
      "OKB-586: 2 vezes\n",
      "OneSpace: 1 vezes\n",
      "RAE: 2 vezes\n",
      "RVSN USSR: 1777 vezes\n",
      "Rocket Lab: 13 vezes\n",
      "Roscosmos: 55 vezes\n",
      "SRC: 3 vezes\n",
      "Sandia: 1 vezes\n",
      "Sea Launch: 36 vezes\n",
      "SpaceX: 100 vezes\n",
      "Starsem: 1 vezes\n",
      "ULA: 140 vezes\n",
      "US Air Force: 161 vezes\n",
      "US Navy: 17 vezes\n",
      "UT: 5 vezes\n",
      "VKS RF: 201 vezes\n",
      "Virgin Orbit: 1 vezes\n",
      "Yuzhmash: 2 vezes\n",
      "i-Space: 1 vezes\n"
     ]
    }
   ],
   "source": [
    "for i, v in enumerate(nome):\n",
    "    print(f\"{v}: {qnt[i]} vezes\")"
   ]
  },
  {
   "cell_type": "code",
   "execution_count": null,
   "id": "34195dd2",
   "metadata": {},
   "outputs": [],
   "source": []
  }
 ],
 "metadata": {
  "kernelspec": {
   "display_name": "Python 3",
   "language": "python",
   "name": "python3"
  },
  "language_info": {
   "codemirror_mode": {
    "name": "ipython",
    "version": 3
   },
   "file_extension": ".py",
   "mimetype": "text/x-python",
   "name": "python",
   "nbconvert_exporter": "python",
   "pygments_lexer": "ipython3",
   "version": "3.8.8"
  }
 },
 "nbformat": 4,
 "nbformat_minor": 5
}
